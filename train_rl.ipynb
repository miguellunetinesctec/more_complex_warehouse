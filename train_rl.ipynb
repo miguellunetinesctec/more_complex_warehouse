{
 "cells": [
  {
   "cell_type": "code",
   "execution_count": 1,
   "metadata": {},
   "outputs": [],
   "source": [
    "# Library imports\n",
    "from env import WarehouseEnv\n",
    "from stable_baselines3 import PPO, DQN\n",
    "import json"
   ]
  },
  {
   "cell_type": "code",
   "execution_count": 2,
   "metadata": {},
   "outputs": [
    {
     "data": {
      "text/html": [
       "\n",
       "      <iframe id=\"tensorboard-frame-8d0aae3b34227b1\" width=\"100%\" height=\"800\" frameborder=\"0\">\n",
       "      </iframe>\n",
       "      <script>\n",
       "        (function() {\n",
       "          const frame = document.getElementById(\"tensorboard-frame-8d0aae3b34227b1\");\n",
       "          const url = new URL(\"/\", window.location);\n",
       "          const port = 3001;\n",
       "          if (port) {\n",
       "            url.port = port;\n",
       "          }\n",
       "          frame.src = url;\n",
       "        })();\n",
       "      </script>\n",
       "    "
      ],
      "text/plain": [
       "<IPython.core.display.HTML object>"
      ]
     },
     "metadata": {},
     "output_type": "display_data"
    }
   ],
   "source": [
    "%load_ext tensorboard\n",
    "%tensorboard --logdir='Data_Training' --port 3001    #Change port if needed (6006,9009,9999)\n",
    "\n",
    "#pip install --upgrade tensorboard tensorflow"
   ]
  },
  {
   "cell_type": "code",
   "execution_count": 3,
   "metadata": {},
   "outputs": [],
   "source": [
    "def train_dqn():\n",
    "    \n",
    "    env = WarehouseEnv()\n",
    "    \n",
    "    env.reset()\n",
    "\n",
    "    model_DQN = DQN(\"MlpPolicy\", \n",
    "                    env, \n",
    "                    tensorboard_log=f\"Data_Training/DQN\", \n",
    "                    verbose=0,\n",
    "                    device=\"cuda\",\n",
    "                    learning_rate=0.005,\n",
    "                    gamma=0.99,\n",
    "                    exploration_fraction=0.8,\n",
    "                    exploration_initial_eps=1,\n",
    "                    exploration_final_eps=0.05,\n",
    "                )\n",
    "\n",
    "    n_steps = 500000\n",
    "    model_DQN.learn(n_steps, reset_num_timesteps=True)\n",
    "    model_DQN.save(f'rl_models/dqn_models/dqn_model.zip')\n",
    "    model_DQN.save_replay_buffer(f'rl_models/dqn_replay_buffer/replay_buffer_dqn.zip')\n",
    "    print('Saved DQN model')"
   ]
  },
  {
   "cell_type": "code",
   "execution_count": 4,
   "metadata": {},
   "outputs": [
    {
     "name": "stdout",
     "output_type": "stream",
     "text": [
      "Saved DQN model\n"
     ]
    }
   ],
   "source": [
    "train_dqn()"
   ]
  },
  {
   "cell_type": "code",
   "execution_count": 5,
   "metadata": {},
   "outputs": [],
   "source": [
    "def train_ppo():\n",
    "    \n",
    "    env = WarehouseEnv()\n",
    "    \n",
    "    env.reset()\n",
    "\n",
    "    model_PPO = PPO(\"MlpPolicy\", \n",
    "                    env, \n",
    "                    tensorboard_log=f\"Data_Training/PPO\", \n",
    "                    verbose=0,\n",
    "                    device=\"cuda\",\n",
    "                    learning_rate=0.0001,\n",
    "                    n_steps=2048,\n",
    "                    batch_size=64,\n",
    "                    n_epochs=10,\n",
    "                    gamma=0.99,\n",
    "                )\n",
    "\n",
    "    n_steps = 500000\n",
    "    model_PPO.learn(n_steps, reset_num_timesteps=True)\n",
    "    model_PPO.save(f'rl_models/ppo_models/ppo_model.zip')\n",
    "    print('Saved PPO model')"
   ]
  },
  {
   "cell_type": "code",
   "execution_count": 6,
   "metadata": {},
   "outputs": [
    {
     "name": "stdout",
     "output_type": "stream",
     "text": [
      "Saved PPO model\n"
     ]
    }
   ],
   "source": [
    "train_ppo()"
   ]
  },
  {
   "cell_type": "code",
   "execution_count": 7,
   "metadata": {},
   "outputs": [],
   "source": [
    "def train_maskable_ppo():\n",
    "    from sb3_contrib import MaskablePPO\n",
    "    env = WarehouseEnv()\n",
    "    env.reset()\n",
    "\n",
    "    model_maskable_PPO = MaskablePPO(\"MlpPolicy\", \n",
    "                    env, \n",
    "                    tensorboard_log=f\"Data_Training/MaskablePPO\", \n",
    "                    verbose=0,\n",
    "                    device=\"cuda\",\n",
    "                    learning_rate=0.0001,\n",
    "                    n_steps=2048,\n",
    "                    batch_size=64,\n",
    "                    n_epochs=10,\n",
    "                    gamma=0.99)\n",
    "\n",
    "    n_steps = 500000\n",
    "    model_maskable_PPO.learn(n_steps, reset_num_timesteps=True)\n",
    "    model_maskable_PPO.save(f'rl_models/maskable_ppo_models/maskable_ppo_model.zip')\n",
    "    print('Saved Maskable PPO model')\n"
   ]
  },
  {
   "cell_type": "code",
   "execution_count": 8,
   "metadata": {},
   "outputs": [
    {
     "name": "stdout",
     "output_type": "stream",
     "text": [
      "Saved Maskable PPO model\n"
     ]
    }
   ],
   "source": [
    "train_maskable_ppo()"
   ]
  },
  {
   "cell_type": "code",
   "execution_count": null,
   "metadata": {},
   "outputs": [],
   "source": [
    "#Run the env with a random policy\n",
    "\n",
    "done = False\n",
    "final_reward = 0\n",
    "env = WarehouseEnv()\n",
    "state,_ = env.reset()\n",
    "\n",
    "while not done:\n",
    "    action = env.action_space.sample()\n",
    "    state, reward, done, done, info = env.step(action)\n",
    "    final_reward += reward\n",
    "    env.render()\n",
    "print(f'Final reward: {final_reward}')\n",
    "#Run the env with a trained policy"
   ]
  }
 ],
 "metadata": {
  "kernelspec": {
   "display_name": "Python 3",
   "language": "python",
   "name": "python3"
  },
  "language_info": {
   "codemirror_mode": {
    "name": "ipython",
    "version": 3
   },
   "file_extension": ".py",
   "mimetype": "text/x-python",
   "name": "python",
   "nbconvert_exporter": "python",
   "pygments_lexer": "ipython3",
   "version": "3.12.6"
  }
 },
 "nbformat": 4,
 "nbformat_minor": 4
}
